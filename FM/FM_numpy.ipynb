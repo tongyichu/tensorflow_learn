{
 "cells": [
  {
   "cell_type": "code",
   "execution_count": 1,
   "metadata": {},
   "outputs": [],
   "source": [
    "import numpy as np\n",
    "from random import normalvariate"
   ]
  },
  {
   "cell_type": "code",
   "execution_count": 2,
   "metadata": {},
   "outputs": [],
   "source": [
    "data = np.array([[6,148,72,35,0,33.6,0.627,50],[1,85,66,29,0,26.6,0.351,31],[8,183,64,0,0,23.3,0.672,32],[1,89,66,23,94,28.1,0.167,21],[0,137,40,35,168,43.1,2.288,33]])"
   ]
  },
  {
   "cell_type": "code",
   "execution_count": 3,
   "metadata": {},
   "outputs": [],
   "source": [
    "label=np.array([1,0,1,0,1])"
   ]
  },
  {
   "cell_type": "code",
   "execution_count": 4,
   "metadata": {},
   "outputs": [
    {
     "name": "stdout",
     "output_type": "stream",
     "text": [
      "5 8\n"
     ]
    }
   ],
   "source": [
    "m,n = data.shape\n",
    "print(m,n)"
   ]
  },
  {
   "cell_type": "code",
   "execution_count": 5,
   "metadata": {},
   "outputs": [],
   "source": [
    "def sigmoid(inx):\n",
    "    return 1.0 / (1 + np.exp(-inx))"
   ]
  },
  {
   "cell_type": "code",
   "execution_count": 6,
   "metadata": {},
   "outputs": [],
   "source": [
    "def fit(data,alpha=0.01,k=3,iter_num=20):\n",
    "    '''alpha为学习率，k为v的隐特征数，iter_num为迭代次数\n",
    "    初始化所需要的参数'''\n",
    "    m,n = data.shape    #m为样本个数，n为特征个数\n",
    "    w = np.zeros(n)\n",
    "    w_0 = 0.\n",
    "    v = normalvariate(0, 0.2) * np.ones((n, k))\n",
    "     \n",
    "    for it in range(iter_num):\n",
    "        for x in range(m):\n",
    "            '''前向传播得到预测值'''\n",
    "            inter_1 = data[x].dot(v)\n",
    "            inter_2 = np.multiply(data[x],data[x]).dot((np.multiply(v,v)))\n",
    "            interaction =np.sum(inter_1*inter_1-inter_2)/2\n",
    "            p = w_0+ w.dot(data[x])+interaction\n",
    "            print('预测值：',p)\n",
    "           \n",
    "            '''损失函数'''\n",
    "            loss = sigmoid(label[x]*p)-1\n",
    "            \n",
    "            '''随机梯度下降，得到各个权重'''\n",
    "            w_0 = w_0 - alpha*loss*label[0]   \n",
    "            for i in range(n):\n",
    "                if data[x, i] != 0:\n",
    "                    w[i] = w[i] - alpha*loss*label[0]*data[0][i]     \n",
    "                    for j in range(k):\n",
    "                        v[i,j]=v[i,j]-alpha*loss*label[0]*(data[0][i]*(inter_1[j])-v[i,j]*data[0][i]*data[0][i])\n",
    "    return w_0,w,v"
   ]
  },
  {
   "cell_type": "code",
   "execution_count": 7,
   "metadata": {},
   "outputs": [
    {
     "name": "stdout",
     "output_type": "stream",
     "text": [
      "预测值： 18786.18202115062\n",
      "预测值： 9264.745137664864\n",
      "预测值： 38899639.717939235\n",
      "预测值： 24736872.482154604\n",
      "预测值： 73153103496.97766\n",
      "预测值： 111616921707.34055\n",
      "预测值： 57515144876.10086\n",
      "预测值： 261430926375139.62\n",
      "预测值： 161072763807693.5\n",
      "预测值： 3.7418006597929594e+17\n",
      "预测值： 5.864973980223777e+17\n",
      "预测值： 3.145613382763665e+17\n",
      "预测值： 1.8060217531873865e+21\n",
      "预测值： 1.0755232997882851e+21\n",
      "预测值： 1.0510304071684795e+24\n",
      "预测值： 1.875336671458012e+24\n",
      "预测值： 1.2286134359810432e+24\n",
      "预测值： 1.1629268638253915e+28\n",
      "预测值： 6.735203408316856e+27\n",
      "预测值： -1.84752490444234e+31\n",
      "预测值： -2.7819458273453374e+35\n",
      "预测值： 9.067683748504711e+38\n",
      "预测值： 2.055345270240118e+43\n",
      "预测值： 1.209681424330067e+43\n",
      "预测值： -9.951910102422741e+46\n",
      "预测值： -1.8151017996539588e+51\n",
      "预测值： -8.173478424900084e+54\n",
      "预测值： -1.0285362905227667e+58\n",
      "预测值： 2.9257963453467544e+63\n",
      "预测值： 1.5644741825927637e+67\n",
      "预测值： 2.2121637175212476e+67\n",
      "预测值： 1.0595718869357182e+67\n",
      "预测值： 7.90916954981935e+69\n",
      "预测值： 1.0277352803088698e+70\n",
      "预测值： 8.732715877296473e+73\n",
      "预测值： 1.206114751106069e+74\n",
      "预测值： 5.590613764683022e+73\n",
      "预测值： -2.3737293287002745e+77\n",
      "预测值： -1.2364584114142205e+81\n",
      "预测值： -7.40549234835032e+84\n",
      "预测值： -1.219236212968739e+89\n",
      "预测值： -3.0705566085422707e+92\n",
      "预测值： -1.6286206345461397e+97\n",
      "预测值： -1.8364358586425596e+100\n",
      "预测值： 2.3685702666406183e+104\n",
      "预测值： 2.5031973341619157e+104\n",
      "预测值： 9.901490212847848e+103\n",
      "预测值： -3.045933502487534e+108\n",
      "预测值： -9.608779893079232e+111\n",
      "预测值： -2.8028372804762893e+114\n",
      "预测值： 7.090317295558391e+119\n",
      "预测值： 5.750217340456491e+119\n",
      "预测值： 7.039150716741339e+123\n",
      "预测值： 4.104386553413247e+123\n",
      "预测值： -1.9762803378793804e+127\n",
      "预测值： -3.4083047426423454e+131\n",
      "预测值： -7.853989498370345e+134\n",
      "预测值： 6.70627181053112e+138\n",
      "预测值： 4.274035127271275e+138\n",
      "预测值： -1.013339332618651e+143\n",
      "预测值： -1.9163939983372494e+147\n",
      "预测值： -1.1420853671773939e+151\n",
      "预测值： -5.489205026746645e+154\n",
      "预测值： 2.0423064055228196e+159\n",
      "预测值： 1.2358819329733253e+163\n",
      "预测值： 1.7235615956860888e+163\n",
      "预测值： 8.159586637588385e+162\n",
      "预测值： -2.2982739462688704e+165\n",
      "预测值： 1.734316725310639e+169\n",
      "预测值： -7.073596053350384e+173\n",
      "预测值： -1.344458476035625e+178\n",
      "预测值： -8.322454229473825e+181\n",
      "预测值： -4.583860300580823e+185\n",
      "预测值： 1.2782481905236226e+190\n",
      "预测值： 8.061500437792997e+193\n",
      "预测值： 1.119089385722749e+194\n",
      "预测值： 5.278606526005538e+193\n",
      "预测值： -3.3601720225393485e+196\n",
      "预测值： -3.8668427977768575e+199\n",
      "预测值： -4.9887234341335387e+204\n",
      "预测值： -9.537979245541919e+208\n",
      "预测值： -6.1749369536197276e+212\n",
      "预测值： -4.227893127423819e+216\n",
      "预测值： 7.189303737646017e+220\n",
      "预测值： 4.983836724515026e+224\n",
      "预测值： 6.846484716945321e+224\n",
      "预测值： 3.2038881668356508e+224\n",
      "预测值： -4.689073336577485e+227\n",
      "预测值： -2.154448568288739e+231\n",
      "预测值： -3.504835437506309e+235\n",
      "预测值： -6.648880599899974e+239\n",
      "预测值： -4.282883188784791e+243\n",
      "预测值： -4.268472208293026e+247\n",
      "预测值： 2.959216361444377e+251\n",
      "预测值： 2.686576810484424e+255\n",
      "预测值： 3.587222687092649e+255\n",
      "预测值： 1.6459854765568406e+255\n",
      "预测值： -6.328245114481956e+258\n",
      "预测值： -3.348691070608398e+262\n",
      "预测值： -2.207783754423791e+266\n"
     ]
    }
   ],
   "source": [
    "w_0,w,v=fit(data)"
   ]
  },
  {
   "cell_type": "code",
   "execution_count": 8,
   "metadata": {},
   "outputs": [
    {
     "name": "stdout",
     "output_type": "stream",
     "text": [
      "w_0:0.5000000000000003\n",
      " w:[ 2.4    74.     36.     13.3     0.     16.8     0.3135 25.    ]\n",
      " v:[[ 2.77615869e+129  2.77615869e+129  2.77615869e+129]\n",
      " [ 8.56045210e+132  8.56045210e+132  8.56045210e+132]\n",
      " [-1.27232864e+133 -1.27232864e+133 -1.27232864e+133]\n",
      " [-4.96985403e+132 -4.96985403e+132 -4.96985403e+132]\n",
      " [-3.78971982e-001 -3.78971982e-001 -3.78971982e-001]\n",
      " [-4.76274872e+132 -4.76274872e+132 -4.76274872e+132]\n",
      " [-8.54796488e+130 -8.54796488e+130 -8.54796488e+130]\n",
      " [-7.48963307e+132 -7.48963307e+132 -7.48963307e+132]]\n"
     ]
    }
   ],
   "source": [
    "print('w_0:{}\\n w:{}\\n v:{}'.format(w_0,w,v))"
   ]
  },
  {
   "cell_type": "markdown",
   "metadata": {},
   "source": [
    "# 单步调试"
   ]
  },
  {
   "cell_type": "code",
   "execution_count": null,
   "metadata": {},
   "outputs": [],
   "source": [
    "alpha = 0.01\n",
    "k=3\n",
    "w = np.zeros(n)\n",
    "w_0 = 0.\n",
    "v = normalvariate(0, 0.2) * np.ones((n, k))\n",
    "print(v)"
   ]
  },
  {
   "cell_type": "code",
   "execution_count": null,
   "metadata": {},
   "outputs": [],
   "source": [
    "interaction"
   ]
  },
  {
   "cell_type": "code",
   "execution_count": null,
   "metadata": {},
   "outputs": [],
   "source": [
    "data[0].dot(w)"
   ]
  },
  {
   "cell_type": "code",
   "execution_count": null,
   "metadata": {},
   "outputs": [],
   "source": [
    "data[0].dot(v)"
   ]
  },
  {
   "cell_type": "code",
   "execution_count": null,
   "metadata": {},
   "outputs": [],
   "source": [
    "label[0]"
   ]
  },
  {
   "cell_type": "code",
   "execution_count": null,
   "metadata": {},
   "outputs": [],
   "source": [
    "def sigmoid(inx):\n",
    "    return 1.0 / (1 + np.exp(-inx))"
   ]
  },
  {
   "cell_type": "code",
   "execution_count": null,
   "metadata": {},
   "outputs": [],
   "source": [
    "inter_1 = data[0].dot(v)\n",
    "inter_2 = np.multiply(data[0],data[0]).dot((np.multiply(v,v)))\n",
    "interaction =np.sum(inter_1*inter_1-inter_2)/2\n",
    "p = w_0+ w.dot(data[0])+interaction"
   ]
  },
  {
   "cell_type": "code",
   "execution_count": null,
   "metadata": {},
   "outputs": [],
   "source": [
    "inter_1"
   ]
  },
  {
   "cell_type": "code",
   "execution_count": null,
   "metadata": {},
   "outputs": [],
   "source": [
    "loss = sigmoid(label[0]-p)-1\n",
    "loss"
   ]
  },
  {
   "cell_type": "code",
   "execution_count": null,
   "metadata": {},
   "outputs": [],
   "source": [
    "w_0 = w_0 - alpha*loss*label[0]   \n",
    "w_0"
   ]
  },
  {
   "cell_type": "code",
   "execution_count": null,
   "metadata": {},
   "outputs": [],
   "source": [
    "w"
   ]
  },
  {
   "cell_type": "code",
   "execution_count": null,
   "metadata": {},
   "outputs": [],
   "source": [
    "for i in range(n):\n",
    "    w[i] = w[i] - alpha*loss*label[0]*data[0][i]\n",
    "    for j in range(k):\n",
    "        v[i,j]=v[i,j]-alpha*loss*label[0]*(data[0][i]*(inter_1[j])-v[i,j]*data[0][i]*data[0][i])\n",
    "print(v)\n",
    "    "
   ]
  },
  {
   "cell_type": "code",
   "execution_count": null,
   "metadata": {},
   "outputs": [],
   "source": [
    "sum(inter_1*inter_1-inter_2)/2"
   ]
  },
  {
   "cell_type": "code",
   "execution_count": null,
   "metadata": {},
   "outputs": [],
   "source": [
    "for it in range(5):\n",
    "    for x in range(m):\n",
    "        inter_1 = data[x].dot(v)\n",
    "        inter_2 = np.multiply(data[x],data[x]).dot((np.multiply(v,v)))\n",
    "        interaction =np.sum(inter_1*inter_1-inter_2)/2\n",
    "        p = w_0+ w.dot(data[x])+interaction\n",
    "        loss = sigmoid(label[0]*p)-1\n",
    "        w_0 = w_0 - alpha*loss*label[0]   \n",
    "        for i in range(n):\n",
    "            w[i] = w[i] - alpha*loss*label[0]*data[0][i]     \n",
    "            for j in range(k):\n",
    "                v[i,j]=v[i,j]-alpha*loss*label[0]*(data[0][i]*(inter_1[j])-v[i,j]*data[0][i]*data[0][i])\n",
    "    print(w,v)\n",
    "    \n",
    "     "
   ]
  }
 ],
 "metadata": {
  "kernelspec": {
   "display_name": "Python 3",
   "language": "python",
   "name": "python3"
  },
  "language_info": {
   "codemirror_mode": {
    "name": "ipython",
    "version": 3
   },
   "file_extension": ".py",
   "mimetype": "text/x-python",
   "name": "python",
   "nbconvert_exporter": "python",
   "pygments_lexer": "ipython3",
   "version": "3.7.3"
  }
 },
 "nbformat": 4,
 "nbformat_minor": 2
}
